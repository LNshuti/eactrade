{
 "cells": [
  {
   "cell_type": "code",
   "execution_count": 1,
   "id": "b9c930f0",
   "metadata": {},
   "outputs": [
    {
     "ename": "ModuleNotFoundError",
     "evalue": "No module named 'scipy'",
     "output_type": "error",
     "traceback": [
      "\u001b[1;31m---------------------------------------------------------------------------\u001b[0m",
      "\u001b[1;31mModuleNotFoundError\u001b[0m                       Traceback (most recent call last)",
      "Cell \u001b[1;32mIn[1], line 1\u001b[0m\n\u001b[1;32m----> 1\u001b[0m \u001b[39mfrom\u001b[39;00m \u001b[39mscipy\u001b[39;00m\u001b[39m.\u001b[39;00m\u001b[39mstats\u001b[39;00m \u001b[39mimport\u001b[39;00m bernoulli\n\u001b[0;32m      2\u001b[0m \u001b[39mimport\u001b[39;00m \u001b[39mnetworkx\u001b[39;00m \u001b[39mas\u001b[39;00m \u001b[39mnx\u001b[39;00m\n\u001b[0;32m      3\u001b[0m \u001b[39mimport\u001b[39;00m \u001b[39mmatplotlib\u001b[39;00m \u001b[39mas\u001b[39;00m \u001b[39mmpl\u001b[39;00m\n",
      "\u001b[1;31mModuleNotFoundError\u001b[0m: No module named 'scipy'"
     ]
    }
   ],
   "source": [
    "from scipy.stats import bernoulli\n",
    "import networkx as nx\n",
    "import matplotlib as mpl\n",
    "import matplotlib.pyplot as plt\n",
    "import pandas as pd\n",
    "import numpy as np\n",
    "# Use seed for reproducibility\n",
    "seed = 20160  # seed random number generators for reproducibility"
   ]
  },
  {
   "cell_type": "code",
   "execution_count": 2,
   "id": "4eda312f",
   "metadata": {},
   "outputs": [
    {
     "ename": "ModuleNotFoundError",
     "evalue": "No module named 'mlforecast'",
     "output_type": "error",
     "traceback": [
      "\u001b[1;31m---------------------------------------------------------------------------\u001b[0m",
      "\u001b[1;31mModuleNotFoundError\u001b[0m                       Traceback (most recent call last)",
      "Cell \u001b[1;32mIn[2], line 1\u001b[0m\n\u001b[1;32m----> 1\u001b[0m \u001b[39mfrom\u001b[39;00m \u001b[39mmlforecast\u001b[39;00m\u001b[39m.\u001b[39;00m\u001b[39mutils\u001b[39;00m \u001b[39mimport\u001b[39;00m generate_daily_series\n\u001b[0;32m      3\u001b[0m series \u001b[39m=\u001b[39m generate_daily_series(\n\u001b[0;32m      4\u001b[0m     n_series\u001b[39m=\u001b[39m\u001b[39m20\u001b[39m,\n\u001b[0;32m      5\u001b[0m     max_length\u001b[39m=\u001b[39m\u001b[39m100\u001b[39m,\n\u001b[1;32m   (...)\u001b[0m\n\u001b[0;32m      8\u001b[0m     with_trend\u001b[39m=\u001b[39m\u001b[39mTrue\u001b[39;00m\n\u001b[0;32m      9\u001b[0m )\n\u001b[0;32m     10\u001b[0m series\u001b[39m.\u001b[39mhead()\n",
      "\u001b[1;31mModuleNotFoundError\u001b[0m: No module named 'mlforecast'"
     ]
    }
   ],
   "source": [
    "from mlforecast.utils import generate_daily_series\n",
    "\n",
    "series = generate_daily_series(\n",
    "    n_series=20,\n",
    "    max_length=100,\n",
    "    n_static_features=1,\n",
    "    static_as_categorical=False,\n",
    "    with_trend=True\n",
    ")\n",
    "series.head()"
   ]
  },
  {
   "cell_type": "code",
   "execution_count": 3,
   "id": "dda267e0",
   "metadata": {},
   "outputs": [
    {
     "ename": "ModuleNotFoundError",
     "evalue": "No module named 'lightgbm'",
     "output_type": "error",
     "traceback": [
      "\u001b[1;31m---------------------------------------------------------------------------\u001b[0m",
      "\u001b[1;31mModuleNotFoundError\u001b[0m                       Traceback (most recent call last)",
      "Cell \u001b[1;32mIn[3], line 1\u001b[0m\n\u001b[1;32m----> 1\u001b[0m \u001b[39mimport\u001b[39;00m \u001b[39mlightgbm\u001b[39;00m \u001b[39mas\u001b[39;00m \u001b[39mlgb\u001b[39;00m\n\u001b[0;32m      2\u001b[0m \u001b[39mimport\u001b[39;00m \u001b[39mxgboost\u001b[39;00m \u001b[39mas\u001b[39;00m \u001b[39mxgb\u001b[39;00m\n\u001b[0;32m      3\u001b[0m \u001b[39mfrom\u001b[39;00m \u001b[39msklearn\u001b[39;00m\u001b[39m.\u001b[39;00m\u001b[39mensemble\u001b[39;00m \u001b[39mimport\u001b[39;00m RandomForestRegressor\n",
      "\u001b[1;31mModuleNotFoundError\u001b[0m: No module named 'lightgbm'"
     ]
    }
   ],
   "source": [
    "import lightgbm as lgb\n",
    "import xgboost as xgb\n",
    "from sklearn.ensemble import RandomForestRegressor\n",
    "\n",
    "models = [\n",
    "    lgb.LGBMRegressor(),\n",
    "    xgb.XGBRegressor(),\n",
    "    RandomForestRegressor(random_state=0),\n",
    "]"
   ]
  },
  {
   "cell_type": "code",
   "execution_count": 7,
   "id": "10362fc8",
   "metadata": {},
   "outputs": [],
   "source": [
    "from mlforecast import Forecast\n",
    "from numba import njit\n",
    "from window_ops.expanding import expanding_mean\n",
    "from window_ops.rolling import rolling_mean"
   ]
  },
  {
   "cell_type": "code",
   "execution_count": 4,
   "id": "07e275bb",
   "metadata": {},
   "outputs": [
    {
     "ename": "NameError",
     "evalue": "name 'njit' is not defined",
     "output_type": "error",
     "traceback": [
      "\u001b[1;31m---------------------------------------------------------------------------\u001b[0m",
      "\u001b[1;31mNameError\u001b[0m                                 Traceback (most recent call last)",
      "Cell \u001b[1;32mIn[4], line 1\u001b[0m\n\u001b[1;32m----> 1\u001b[0m \u001b[39m@njit\u001b[39m\n\u001b[0;32m      2\u001b[0m \u001b[39mdef\u001b[39;00m \u001b[39mrolling_mean_28\u001b[39m(x):\n\u001b[0;32m      3\u001b[0m     \u001b[39mreturn\u001b[39;00m rolling_mean(x, window_size\u001b[39m=\u001b[39m\u001b[39m28\u001b[39m)\n\u001b[0;32m      5\u001b[0m fcst \u001b[39m=\u001b[39m Forecast(\n\u001b[0;32m      6\u001b[0m     models\u001b[39m=\u001b[39mmodels,\n\u001b[0;32m      7\u001b[0m     freq\u001b[39m=\u001b[39m\u001b[39m'\u001b[39m\u001b[39mD\u001b[39m\u001b[39m'\u001b[39m,\n\u001b[1;32m   (...)\u001b[0m\n\u001b[0;32m     14\u001b[0m     differences\u001b[39m=\u001b[39m[\u001b[39m1\u001b[39m],\n\u001b[0;32m     15\u001b[0m )\n",
      "\u001b[1;31mNameError\u001b[0m: name 'njit' is not defined"
     ]
    }
   ],
   "source": [
    "@njit\n",
    "def rolling_mean_28(x):\n",
    "    return rolling_mean(x, window_size=28)\n",
    "\n",
    "fcst = Forecast(\n",
    "    models=models,\n",
    "    freq='D',\n",
    "    lags=[7, 14],\n",
    "    lag_transforms={\n",
    "        1: [expanding_mean],\n",
    "        7: [rolling_mean_28]\n",
    "    },\n",
    "    date_features=['dayofweek'],\n",
    "    differences=[1],\n",
    ")"
   ]
  },
  {
   "cell_type": "code",
   "execution_count": 5,
   "id": "296b45e2",
   "metadata": {},
   "outputs": [
    {
     "ename": "NameError",
     "evalue": "name 'fcst' is not defined",
     "output_type": "error",
     "traceback": [
      "\u001b[1;31m---------------------------------------------------------------------------\u001b[0m",
      "\u001b[1;31mNameError\u001b[0m                                 Traceback (most recent call last)",
      "Cell \u001b[1;32mIn[5], line 1\u001b[0m\n\u001b[1;32m----> 1\u001b[0m fcst\u001b[39m.\u001b[39mfit(series, id_col\u001b[39m=\u001b[39m\u001b[39m'\u001b[39m\u001b[39mindex\u001b[39m\u001b[39m'\u001b[39m, time_col\u001b[39m=\u001b[39m\u001b[39m'\u001b[39m\u001b[39mds\u001b[39m\u001b[39m'\u001b[39m, target_col\u001b[39m=\u001b[39m\u001b[39m'\u001b[39m\u001b[39my\u001b[39m\u001b[39m'\u001b[39m, static_features\u001b[39m=\u001b[39m[\u001b[39m'\u001b[39m\u001b[39mstatic_0\u001b[39m\u001b[39m'\u001b[39m])\n",
      "\u001b[1;31mNameError\u001b[0m: name 'fcst' is not defined"
     ]
    }
   ],
   "source": [
    "fcst.fit(series, id_col='index', time_col='ds', target_col='y', static_features=['static_0'])"
   ]
  },
  {
   "cell_type": "code",
   "execution_count": 12,
   "id": "ebb4d1dd",
   "metadata": {},
   "outputs": [
    {
     "data": {
      "text/html": [
       "<div>\n",
       "<style scoped>\n",
       "    .dataframe tbody tr th:only-of-type {\n",
       "        vertical-align: middle;\n",
       "    }\n",
       "\n",
       "    .dataframe tbody tr th {\n",
       "        vertical-align: top;\n",
       "    }\n",
       "\n",
       "    .dataframe thead th {\n",
       "        text-align: right;\n",
       "    }\n",
       "</style>\n",
       "<table border=\"1\" class=\"dataframe\">\n",
       "  <thead>\n",
       "    <tr style=\"text-align: right;\">\n",
       "      <th></th>\n",
       "      <th>ds</th>\n",
       "      <th>LGBMRegressor</th>\n",
       "      <th>XGBRegressor</th>\n",
       "      <th>RandomForestRegressor</th>\n",
       "    </tr>\n",
       "    <tr>\n",
       "      <th>unique_id</th>\n",
       "      <th></th>\n",
       "      <th></th>\n",
       "      <th></th>\n",
       "      <th></th>\n",
       "    </tr>\n",
       "  </thead>\n",
       "  <tbody>\n",
       "    <tr>\n",
       "      <th>id_00</th>\n",
       "      <td>2000-04-04</td>\n",
       "      <td>69.082830</td>\n",
       "      <td>67.761337</td>\n",
       "      <td>68.184016</td>\n",
       "    </tr>\n",
       "    <tr>\n",
       "      <th>id_00</th>\n",
       "      <td>2000-04-05</td>\n",
       "      <td>75.706024</td>\n",
       "      <td>74.588699</td>\n",
       "      <td>75.470680</td>\n",
       "    </tr>\n",
       "    <tr>\n",
       "      <th>id_00</th>\n",
       "      <td>2000-04-06</td>\n",
       "      <td>82.222473</td>\n",
       "      <td>81.058289</td>\n",
       "      <td>82.846249</td>\n",
       "    </tr>\n",
       "    <tr>\n",
       "      <th>id_00</th>\n",
       "      <td>2000-04-07</td>\n",
       "      <td>89.577638</td>\n",
       "      <td>88.735947</td>\n",
       "      <td>90.201271</td>\n",
       "    </tr>\n",
       "    <tr>\n",
       "      <th>id_00</th>\n",
       "      <td>2000-04-08</td>\n",
       "      <td>44.149095</td>\n",
       "      <td>44.981384</td>\n",
       "      <td>46.096322</td>\n",
       "    </tr>\n",
       "    <tr>\n",
       "      <th>...</th>\n",
       "      <td>...</td>\n",
       "      <td>...</td>\n",
       "      <td>...</td>\n",
       "      <td>...</td>\n",
       "    </tr>\n",
       "    <tr>\n",
       "      <th>id_19</th>\n",
       "      <td>2000-03-23</td>\n",
       "      <td>30.236012</td>\n",
       "      <td>31.949095</td>\n",
       "      <td>32.656369</td>\n",
       "    </tr>\n",
       "    <tr>\n",
       "      <th>id_19</th>\n",
       "      <td>2000-03-24</td>\n",
       "      <td>31.308269</td>\n",
       "      <td>32.765919</td>\n",
       "      <td>33.624488</td>\n",
       "    </tr>\n",
       "    <tr>\n",
       "      <th>id_19</th>\n",
       "      <td>2000-03-25</td>\n",
       "      <td>32.788550</td>\n",
       "      <td>33.628864</td>\n",
       "      <td>34.581486</td>\n",
       "    </tr>\n",
       "    <tr>\n",
       "      <th>id_19</th>\n",
       "      <td>2000-03-26</td>\n",
       "      <td>34.086976</td>\n",
       "      <td>34.508457</td>\n",
       "      <td>35.553173</td>\n",
       "    </tr>\n",
       "    <tr>\n",
       "      <th>id_19</th>\n",
       "      <td>2000-03-27</td>\n",
       "      <td>34.288968</td>\n",
       "      <td>35.411613</td>\n",
       "      <td>36.526505</td>\n",
       "    </tr>\n",
       "  </tbody>\n",
       "</table>\n",
       "<p>280 rows × 4 columns</p>\n",
       "</div>"
      ],
      "text/plain": [
       "                  ds  LGBMRegressor  XGBRegressor  RandomForestRegressor\n",
       "unique_id                                                               \n",
       "id_00     2000-04-04      69.082830     67.761337              68.184016\n",
       "id_00     2000-04-05      75.706024     74.588699              75.470680\n",
       "id_00     2000-04-06      82.222473     81.058289              82.846249\n",
       "id_00     2000-04-07      89.577638     88.735947              90.201271\n",
       "id_00     2000-04-08      44.149095     44.981384              46.096322\n",
       "...              ...            ...           ...                    ...\n",
       "id_19     2000-03-23      30.236012     31.949095              32.656369\n",
       "id_19     2000-03-24      31.308269     32.765919              33.624488\n",
       "id_19     2000-03-25      32.788550     33.628864              34.581486\n",
       "id_19     2000-03-26      34.086976     34.508457              35.553173\n",
       "id_19     2000-03-27      34.288968     35.411613              36.526505\n",
       "\n",
       "[280 rows x 4 columns]"
      ]
     },
     "execution_count": 12,
     "metadata": {},
     "output_type": "execute_result"
    }
   ],
   "source": [
    "predictions = fcst.predict(14)\n",
    "predictions"
   ]
  },
  {
   "cell_type": "code",
   "execution_count": 6,
   "id": "f55f00b5",
   "metadata": {},
   "outputs": [
    {
     "ename": "ModuleNotFoundError",
     "evalue": "No module named 'matplotlib'",
     "output_type": "error",
     "traceback": [
      "\u001b[1;31m---------------------------------------------------------------------------\u001b[0m",
      "\u001b[1;31mModuleNotFoundError\u001b[0m                       Traceback (most recent call last)",
      "Cell \u001b[1;32mIn[6], line 1\u001b[0m\n\u001b[1;32m----> 1\u001b[0m \u001b[39mimport\u001b[39;00m \u001b[39mmatplotlib\u001b[39;00m\u001b[39m.\u001b[39;00m\u001b[39mpyplot\u001b[39;00m \u001b[39mas\u001b[39;00m \u001b[39mplt\u001b[39;00m\n\u001b[0;32m      2\u001b[0m \u001b[39mimport\u001b[39;00m \u001b[39mpandas\u001b[39;00m \u001b[39mas\u001b[39;00m \u001b[39mpd\u001b[39;00m\n\u001b[0;32m      4\u001b[0m fig, ax \u001b[39m=\u001b[39m plt\u001b[39m.\u001b[39msubplots(nrows\u001b[39m=\u001b[39m\u001b[39m2\u001b[39m, ncols\u001b[39m=\u001b[39m\u001b[39m2\u001b[39m, figsize\u001b[39m=\u001b[39m(\u001b[39m12\u001b[39m, \u001b[39m6\u001b[39m), gridspec_kw\u001b[39m=\u001b[39m\u001b[39mdict\u001b[39m(hspace\u001b[39m=\u001b[39m\u001b[39m0.3\u001b[39m))\n",
      "\u001b[1;31mModuleNotFoundError\u001b[0m: No module named 'matplotlib'"
     ]
    }
   ],
   "source": [
    "import matplotlib.pyplot as plt\n",
    "import pandas as pd\n",
    "\n",
    "fig, ax = plt.subplots(nrows=2, ncols=2, figsize=(12, 6), gridspec_kw=dict(hspace=0.3))\n",
    "for i, (cat, axi) in enumerate(zip(series.index.categories, ax.flat)):\n",
    "    pd.concat([series.loc[cat, ['ds', 'y']], predictions.loc[cat]]).set_index('ds').plot(ax=axi)\n",
    "    axi.set(title=cat, xlabel=None)\n",
    "    if i % 2 == 0:\n",
    "        axi.legend().remove()\n",
    "    else:\n",
    "        axi.legend(bbox_to_anchor=(1.01, 1.0))\n",
    "fig.savefig('figs/index.png', bbox_inches='tight')\n",
    "plt.close()"
   ]
  },
  {
   "cell_type": "code",
   "execution_count": null,
   "id": "178e9183",
   "metadata": {},
   "outputs": [],
   "source": [
    "df = pd.read_csv('processed/rwa_sum_features.csv')\n",
    "df['identifier'] = df['product_id'].astype(str) + '-' + df['name']\n",
    "\n",
    "df1 = df[['identifier', 'imports']]\n",
    "df.head()\n",
    "\n",
    "# chunks = list()\n",
    "# chunk_size = \n",
    "# num_chunks = len(df) // chunk_size + 1\n",
    "\n",
    "# for i in range(num_chunks):\n",
    "#     chunks.append(df[i * chunk_size : (i + 1) * chunk_size])"
   ]
  },
  {
   "cell_type": "code",
   "execution_count": null,
   "id": "1a624774",
   "metadata": {},
   "outputs": [],
   "source": [
    "len(df)"
   ]
  },
  {
   "cell_type": "code",
   "execution_count": null,
   "id": "bd834dfa",
   "metadata": {},
   "outputs": [],
   "source": [
    "G = nx.Graph()\n",
    "\n",
    "G = nx.from_pandas_edgelist(df1, 'identifier', 'imports')\n",
    "\n",
    "# some properties\n",
    "# print(\"node degree clustering\")\n",
    "# for v in nx.nodes(G):\n",
    "#     print(f\"{v} {nx.degree(G, v)} {nx.clustering(G, v)}\")\n",
    "\n",
    "# print()\n",
    "# print(\"the adjacency list\")\n",
    "# for line in nx.generate_adjlist(G):\n",
    "#     print(line)\n",
    "pos = nx.spring_layout(G, seed=seed)  # Seed for reproducible layout\n",
    "nx.draw(G, pos=pos)\n",
    "plt.show()"
   ]
  },
  {
   "cell_type": "code",
   "execution_count": null,
   "id": "cd27e69e",
   "metadata": {},
   "outputs": [],
   "source": [
    "df_ <- pd.read_csv(\"\")\n",
    "create_using = to_networkx_graph(data)"
   ]
  },
  {
   "cell_type": "code",
   "execution_count": null,
   "id": "a755b29d",
   "metadata": {},
   "outputs": [],
   "source": []
  }
 ],
 "metadata": {
  "kernelspec": {
   "display_name": "eactrade",
   "language": "python",
   "name": "python3"
  },
  "language_info": {
   "codemirror_mode": {
    "name": "ipython",
    "version": 3
   },
   "file_extension": ".py",
   "mimetype": "text/x-python",
   "name": "python",
   "nbconvert_exporter": "python",
   "pygments_lexer": "ipython3",
   "version": "3.10.9 | packaged by conda-forge | (main, Jan 11 2023, 15:15:40) [MSC v.1916 64 bit (AMD64)]"
  },
  "vscode": {
   "interpreter": {
    "hash": "4548adedeebfba836301d6b9533772e3db0427b9826107386ef4e4e5d21630dc"
   }
  }
 },
 "nbformat": 4,
 "nbformat_minor": 5
}
