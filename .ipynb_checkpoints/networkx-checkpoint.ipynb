{
 "cells": [
  {
   "cell_type": "code",
   "execution_count": 1,
   "id": "b9c930f0",
   "metadata": {},
   "outputs": [],
   "source": [
    "from scipy.stats import bernoulli\n",
    "import networkx as nx\n",
    "import matplotlib as mpl\n",
    "import matplotlib.pyplot as plt\n",
    "import pandas as pd\n",
    "import numpy as np\n",
    "# Use seed for reproducibility\n",
    "seed = 20160  # seed random number generators for reproducibility"
   ]
  },
  {
   "cell_type": "code",
   "execution_count": 2,
   "id": "b4646b83",
   "metadata": {},
   "outputs": [
    {
     "name": "stderr",
     "output_type": "stream",
     "text": [
      "/Users/leoncenshuti/opt/miniconda3/lib/python3.8/site-packages/xgboost/compat.py:36: FutureWarning: pandas.Int64Index is deprecated and will be removed from pandas in a future version. Use pandas.Index with the appropriate dtype instead.\n",
      "  from pandas import MultiIndex, Int64Index\n"
     ]
    }
   ],
   "source": [
    "import lightgbm as lgb\n",
    "import xgboost as xgb\n",
    "from sklearn.ensemble import RandomForestRegressor\n",
    "\n",
    "models = [\n",
    "    lgb.LGBMRegressor(),\n",
    "    xgb.XGBRegressor(),\n",
    "    RandomForestRegressor(random_state=0),\n",
    "]"
   ]
  },
  {
   "cell_type": "code",
   "execution_count": 7,
   "id": "acaa4dd6",
   "metadata": {},
   "outputs": [],
   "source": [
    "from mlforecast import Forecast\n",
    "from numba import njit\n",
    "from window_ops.expanding import expanding_mean\n",
    "from window_ops.rolling import rolling_mean"
   ]
  },
  {
   "cell_type": "code",
   "execution_count": 5,
   "id": "57a33fc8",
   "metadata": {},
   "outputs": [],
   "source": [
    "@njit\n",
    "def rolling_mean_28(x):\n",
    "    return rolling_mean(x, window_size=28)\n",
    "\n",
    "fcst = Forecast(\n",
    "    models=models,\n",
    "    freq='D',\n",
    "    lags=[7, 14],\n",
    "    lag_transforms={\n",
    "        1: [expanding_mean],\n",
    "        7: [rolling_mean_28]\n",
    "    },\n",
    "    date_features=['dayofweek'],\n",
    "    differences=[1],\n",
    ")"
   ]
  },
  {
   "cell_type": "code",
   "execution_count": null,
   "id": "178e9183",
   "metadata": {},
   "outputs": [],
   "source": [
    "df = pd.read_csv('processed/rwa_sum_features.csv')\n",
    "df['identifier'] = df['product_id'].astype(str) + '-' + df['name']\n",
    "\n",
    "df1 = df[['identifier', 'imports']]\n",
    "df.head()\n",
    "\n",
    "# chunks = list()\n",
    "# chunk_size = \n",
    "# num_chunks = len(df) // chunk_size + 1\n",
    "\n",
    "# for i in range(num_chunks):\n",
    "#     chunks.append(df[i * chunk_size : (i + 1) * chunk_size])"
   ]
  },
  {
   "cell_type": "code",
   "execution_count": null,
   "id": "1a624774",
   "metadata": {},
   "outputs": [],
   "source": [
    "len(df)"
   ]
  },
  {
   "cell_type": "code",
   "execution_count": null,
   "id": "bd834dfa",
   "metadata": {},
   "outputs": [],
   "source": [
    "G = nx.Graph()\n",
    "\n",
    "G = nx.from_pandas_edgelist(df1, 'identifier', 'imports')\n",
    "\n",
    "# some properties\n",
    "# print(\"node degree clustering\")\n",
    "# for v in nx.nodes(G):\n",
    "#     print(f\"{v} {nx.degree(G, v)} {nx.clustering(G, v)}\")\n",
    "\n",
    "# print()\n",
    "# print(\"the adjacency list\")\n",
    "# for line in nx.generate_adjlist(G):\n",
    "#     print(line)\n",
    "pos = nx.spring_layout(G, seed=seed)  # Seed for reproducible layout\n",
    "nx.draw(G, pos=pos)\n",
    "plt.show()"
   ]
  },
  {
   "cell_type": "code",
   "execution_count": null,
   "id": "cd27e69e",
   "metadata": {},
   "outputs": [],
   "source": [
    "df_ <- pd.read_csv(\"\")\n",
    "create_using = to_networkx_graph(data)"
   ]
  },
  {
   "cell_type": "code",
   "execution_count": null,
   "id": "a755b29d",
   "metadata": {},
   "outputs": [],
   "source": []
  }
 ],
 "metadata": {
  "kernelspec": {
   "display_name": "Python 3 (ipykernel)",
   "language": "python",
   "name": "python3"
  },
  "language_info": {
   "codemirror_mode": {
    "name": "ipython",
    "version": 3
   },
   "file_extension": ".py",
   "mimetype": "text/x-python",
   "name": "python",
   "nbconvert_exporter": "python",
   "pygments_lexer": "ipython3",
   "version": "3.8.10"
  }
 },
 "nbformat": 4,
 "nbformat_minor": 5
}
