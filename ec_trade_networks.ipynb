{
  "cells": [
    {
      "cell_type": "markdown",
      "metadata": {
        "colab_type": "text",
        "id": "view-in-github"
      },
      "source": [
        "<a href=\"https://colab.research.google.com/github/LNshuti/eactrade/blob/main/ec_trade_networks.ipynb\" target=\"_parent\"><img src=\"https://colab.research.google.com/assets/colab-badge.svg\" alt=\"Open In Colab\"/></a>"
      ]
    },
    {
      "cell_type": "markdown",
      "metadata": {
        "id": "PFvZxiyRgb50"
      },
      "source": []
    },
    {
      "cell_type": "code",
      "execution_count": 1,
      "metadata": {
        "id": "aSrL_y39YAob"
      },
      "outputs": [],
      "source": [
        "!pip install networkx --quiet\n",
        "!pip install python-louvain --quiet\n",
        "!pip install scipy --quiet"
      ]
    },
    {
      "cell_type": "code",
      "execution_count": 2,
      "metadata": {
        "colab": {
          "base_uri": "https://localhost:8080/",
          "height": 423
        },
        "id": "7s1YukxKYKGK",
        "outputId": "37ee6f28-790c-4230-d5c7-2a1f573752b2"
      },
      "outputs": [],
      "source": [
        "import pandas as pd\n",
        "import networkx as nx\n",
        "import matplotlib.pyplot as plt\n",
        "from community import community_louvain\n",
        "import seaborn as sns\n",
        "import scipy"
      ]
    },
    {
      "cell_type": "code",
      "execution_count": 8,
      "metadata": {},
      "outputs": [
        {
          "data": {
            "text/plain": [
              "Index(['Country', 'Alpha-2 code', 'Alpha-3 code', 'Numeric code',\n",
              "       'Latitude (average)', 'Longitude (average)'],\n",
              "      dtype='object')"
            ]
          },
          "execution_count": 8,
          "metadata": {},
          "output_type": "execute_result"
        }
      ],
      "source": [
        "# Load country labels. \n",
        "country_ids = pd.read_csv(\"data/countries_codes_and_coordinates.csv\")\n",
        "country_ids.columns"
      ]
    },
    {
      "cell_type": "code",
      "execution_count": 7,
      "metadata": {},
      "outputs": [
        {
          "data": {
            "text/html": [
              "<div>\n",
              "<style scoped>\n",
              "    .dataframe tbody tr th:only-of-type {\n",
              "        vertical-align: middle;\n",
              "    }\n",
              "\n",
              "    .dataframe tbody tr th {\n",
              "        vertical-align: top;\n",
              "    }\n",
              "\n",
              "    .dataframe thead th {\n",
              "        text-align: right;\n",
              "    }\n",
              "</style>\n",
              "<table border=\"1\" class=\"dataframe\">\n",
              "  <thead>\n",
              "    <tr style=\"text-align: right;\">\n",
              "      <th></th>\n",
              "      <th>country</th>\n",
              "      <th>alpha_2_code</th>\n",
              "      <th>alpha_3_code</th>\n",
              "      <th>numeric_code</th>\n",
              "      <th>latitude__average</th>\n",
              "      <th>longitude__average</th>\n",
              "    </tr>\n",
              "  </thead>\n",
              "  <tbody>\n",
              "    <tr>\n",
              "      <th>0</th>\n",
              "      <td>Afghanistan</td>\n",
              "      <td>\"AF\"</td>\n",
              "      <td>\"AFG\"</td>\n",
              "      <td>\"4\"</td>\n",
              "      <td>\"33\"</td>\n",
              "      <td>\"65\"</td>\n",
              "    </tr>\n",
              "    <tr>\n",
              "      <th>1</th>\n",
              "      <td>Albania</td>\n",
              "      <td>\"AL\"</td>\n",
              "      <td>\"ALB\"</td>\n",
              "      <td>\"8\"</td>\n",
              "      <td>\"41\"</td>\n",
              "      <td>\"20\"</td>\n",
              "    </tr>\n",
              "    <tr>\n",
              "      <th>2</th>\n",
              "      <td>Algeria</td>\n",
              "      <td>\"DZ\"</td>\n",
              "      <td>\"DZA\"</td>\n",
              "      <td>\"12\"</td>\n",
              "      <td>\"28\"</td>\n",
              "      <td>\"3\"</td>\n",
              "    </tr>\n",
              "    <tr>\n",
              "      <th>3</th>\n",
              "      <td>American Samoa</td>\n",
              "      <td>\"AS\"</td>\n",
              "      <td>\"ASM\"</td>\n",
              "      <td>\"16\"</td>\n",
              "      <td>\"-14.3333\"</td>\n",
              "      <td>\"-170\"</td>\n",
              "    </tr>\n",
              "    <tr>\n",
              "      <th>4</th>\n",
              "      <td>Andorra</td>\n",
              "      <td>\"AD\"</td>\n",
              "      <td>\"AND\"</td>\n",
              "      <td>\"20\"</td>\n",
              "      <td>\"42.5\"</td>\n",
              "      <td>\"1.6\"</td>\n",
              "    </tr>\n",
              "  </tbody>\n",
              "</table>\n",
              "</div>"
            ],
            "text/plain": [
              "          country alpha_2_code alpha_3_code numeric_code latitude__average  \\\n",
              "0     Afghanistan         \"AF\"        \"AFG\"          \"4\"              \"33\"   \n",
              "1         Albania         \"AL\"        \"ALB\"          \"8\"              \"41\"   \n",
              "2         Algeria         \"DZ\"        \"DZA\"         \"12\"              \"28\"   \n",
              "3  American Samoa         \"AS\"        \"ASM\"         \"16\"        \"-14.3333\"   \n",
              "4         Andorra         \"AD\"        \"AND\"         \"20\"            \"42.5\"   \n",
              "\n",
              "  longitude__average  \n",
              "0               \"65\"  \n",
              "1               \"20\"  \n",
              "2                \"3\"  \n",
              "3             \"-170\"  \n",
              "4              \"1.6\"  "
            ]
          },
          "execution_count": 7,
          "metadata": {},
          "output_type": "execute_result"
        }
      ],
      "source": [
        "# Load country labels. Load the data with these data types:\n",
        "# ['Country', 'Alpha-2 code', 'Alpha-3 code', 'Numeric code', 'Latitude (average)', 'Longitude (average)']\n",
        "\n",
        "\n",
        "country_ids = pd.read_csv(\"data/countries_codes_and_coordinates.csv\")\n",
        "\n",
        "# Clean column names (make them lowercase and replace spaces with underscores)\n",
        "country_ids.columns = country_ids.columns.str.lower().str.replace('[ (-]', '_', regex=True).str.replace(')', '')\n",
        "# Convert numeric_code to character\n",
        "country_ids['numeric_code'] = country_ids['numeric_code'].astype(str)\n",
        "country_ids.head()"
      ]
    },
    {
      "cell_type": "code",
      "execution_count": null,
      "metadata": {},
      "outputs": [],
      "source": []
    },
    {
      "cell_type": "code",
      "execution_count": null,
      "metadata": {},
      "outputs": [],
      "source": [
        "# Load your data. Load the parquet file\n",
        "df = pd.read_parquet('processed\\country_partner_sitcproduct4digit_year_2021.parquet')\n",
        "\n",
        "# Filter df to only include location_code for East African countries\n",
        "east_africa = ['BDI', 'KEN', 'RWA', 'TZA', 'UGA', 'ZMB', 'ZWE']\n",
        "df = df[df['location_code'].isin(east_africa)]\n",
        "df.head()"
      ]
    },
    {
      "cell_type": "code",
      "execution_count": null,
      "metadata": {},
      "outputs": [],
      "source": [
        "# First inner join on location_id and numeric_code\n",
        "merged_df = pd.merge(df, country_ids, left_on='location_id', right_on='numeric_code')\n",
        "\n",
        "# Rename alpha_3_code to 'to'\n",
        "merged_df.rename(columns={'alpha_3_code': 'to'}, inplace=True)\n",
        "\n",
        "# Second inner join on partner_id and numeric_code\n",
        "merged_df = pd.merge(merged_df, country_ids, left_on='partner_id', right_on='numeric_code', suffixes=('', '_partner'))\n",
        "\n",
        "# Rename alpha_3_code_partner to 'from'\n",
        "merged_df.rename(columns={'alpha_3_code_partner': 'from'}, inplace=True)\n",
        "\n",
        "# Drop unnecessary columns\n",
        "merged_df.drop(columns=['location_id', 'partner_id', 'sitc_eci', 'sitc_coi', 'numeric_code', 'numeric_code_partner'], inplace=True)\n",
        "\n",
        "# Reorder columns to have 'from' and 'to' at the beginning\n",
        "columns = ['from', 'to'] + [col for col in merged_df.columns if col not in ['from', 'to']]\n",
        "eaccountries_trade_df = merged_df[columns]"
      ]
    },
    {
      "cell_type": "code",
      "execution_count": null,
      "metadata": {
        "colab": {
          "base_uri": "https://localhost:8080/"
        },
        "id": "qoWf5SQfYmRQ",
        "outputId": "aeb714b6-16f4-45ba-9e94-0955d3ce3c86"
      },
      "outputs": [],
      "source": [
        "# Calculate total imports for each location\n",
        "node_sizes = df.groupby(['product_id', 'location_code', 'partner_code'])['import_value'].sum().to_dict()\n",
        "# Filter nodes to only include those with > 0\n",
        "node_sizes = {k: v for k, v in node_sizes.items() if v > 200009683}\n",
        "node_sizes"
      ]
    },
    {
      "cell_type": "code",
      "execution_count": null,
      "metadata": {
        "colab": {
          "base_uri": "https://localhost:8080/"
        },
        "id": "ahhCY3b6Zhcy",
        "outputId": "38b814aa-bf1a-4432-d8a8-f8ddf50278e0"
      },
      "outputs": [],
      "source": [
        "# Calculate total imports for each name and partner, and keep top 10\n",
        "top_10_imports = df.groupby(['product_id', 'partner_code'])['import_value'].sum().nlargest(10).to_dict()\n",
        "top_10_imports"
      ]
    },
    {
      "cell_type": "code",
      "execution_count": null,
      "metadata": {
        "colab": {
          "base_uri": "https://localhost:8080/"
        },
        "id": "aiE9qquHbVTr",
        "outputId": "7bd9036f-e1e7-4de2-c7de-a7e9fa2cc6d6"
      },
      "outputs": [],
      "source": [
        "# Create a directed graph, filtering for top 10\n",
        "G = nx.from_pandas_edgelist(df[df.apply(lambda row: (row['product_id'], row['partner_code']) in top_10_imports, axis=1)],\n",
        "                           'product_id', 'partner_code', edge_attr='import_value', create_using=nx.DiGraph())\n",
        "G.nodes()"
      ]
    },
    {
      "cell_type": "code",
      "execution_count": null,
      "metadata": {
        "colab": {
          "base_uri": "https://localhost:8080/"
        },
        "id": "9K7h06wvcasR",
        "outputId": "75eddde4-f8b7-40a7-9459-e7f504e16761"
      },
      "outputs": [],
      "source": [
        "G.edges()"
      ]
    },
    {
      "cell_type": "code",
      "execution_count": null,
      "metadata": {
        "id": "4yci16Vv7Uk2"
      },
      "outputs": [],
      "source": [
        "def load_data(file_path):\n",
        "    \"\"\"\n",
        "    Load the dataset from a parquet file.\n",
        "\n",
        "    Args:\n",
        "    file_path (str): The path to the parquet file.\n",
        "\n",
        "    Returns:\n",
        "    pd.DataFrame: The loaded dataframe.\n",
        "    \"\"\"\n",
        "    return pd.read_parquet(file_path)\n",
        "\n",
        "def format_currency(x, pos):\n",
        "    \"\"\"\n",
        "    Format the value as currency with commas and a dollar sign.\n",
        "\n",
        "    Args:\n",
        "    x (float): The value to format.\n",
        "    pos (int): Position index (required for the formatter but not used here).\n",
        "\n",
        "    Returns:\n",
        "    str: The formatted string.\n",
        "    \"\"\"\n",
        "    return f\"${x:,.0f}\"\n",
        "\n",
        "def filter_data(df):\n",
        "    \"\"\"\n",
        "    Filter the necessary columns from the dataframe.\n",
        "\n",
        "    Args:\n",
        "    df (pd.DataFrame): The input dataframe.\n",
        "\n",
        "    Returns:\n",
        "    pd.DataFrame: The filtered dataframe.\n",
        "    \"\"\"\n",
        "    return df[['product_id', 'export_value', 'import_value', 'year',\n",
        "               'sitc_eci', 'sitc_coi', 'location_code', 'partner_code',\n",
        "               'sitc_product_code']]\n",
        "\n",
        "def create_network_graph(df):\n",
        "    \"\"\"\n",
        "    Create a directed network graph from the dataframe.\n",
        "\n",
        "    Args:\n",
        "    df (pd.DataFrame): The filtered dataframe.\n",
        "\n",
        "    Returns:\n",
        "    nx.DiGraph: The created network graph.\n",
        "    \"\"\"\n",
        "    G = nx.DiGraph()\n",
        "\n",
        "    for index, row in df.iterrows():\n",
        "        product = row['product_id']\n",
        "        partner_id = row['partner_code']\n",
        "        import_value = row['import_value']\n",
        "\n",
        "        # Add nodes and weighted edges\n",
        "        G.add_node(product)\n",
        "        G.add_node(partner_id)\n",
        "        G.add_edge(product, partner_id, weight=import_value, label='imports')\n",
        "\n",
        "    return G\n",
        "\n",
        "\n",
        "def plot_network_graph(G, partition=None):\n",
        "    \"\"\"\n",
        "    Plot the network graph.\n",
        "\n",
        "    Args:\n",
        "    G (nx.DiGraph): The network graph to be plotted.\n",
        "    partition (dict, optional): The partition of the graph for community detection.\n",
        "    \"\"\"\n",
        "    pos = nx.spring_layout(G)\n",
        "    plt.figure(figsize=(12, 12))\n",
        "\n",
        "    if partition:\n",
        "        colors = [partition[node] for node in G.nodes()]\n",
        "        nx.draw_networkx_nodes(G, pos, node_size=7000, node_color=colors, cmap=plt.cm.rainbow)\n",
        "    else:\n",
        "        nx.draw_networkx_nodes(G, pos, node_size=7000)\n",
        "\n",
        "    nx.draw_networkx_labels(G, pos, font_size=12, font_weight='bold')\n",
        "\n",
        "    edge_labels = {(u, v): f\"{d['label']} ({d['weight']})\" for u, v, d in G.edges(data=True)}\n",
        "    nx.draw_networkx_edges(G, pos, arrowstyle='-|>', arrowsize=20)\n",
        "    nx.draw_networkx_edge_labels(G, pos, edge_labels=edge_labels, font_size=10)\n",
        "\n",
        "    plt.title(\"Comprehensive Network Analysis\")\n",
        "    plt.show()\n",
        "\n",
        "def calculate_network_statistics(G):\n",
        "    \"\"\"\n",
        "    Calculate and return network statistics.\n",
        "\n",
        "    Args:\n",
        "    G (nx.DiGraph): The network graph.\n",
        "\n",
        "    Returns:\n",
        "    dict: A dictionary containing network statistics.\n",
        "    \"\"\"\n",
        "    stats = {\n",
        "        'number_of_nodes': G.number_of_nodes(),\n",
        "        'number_of_edges': G.number_of_edges(),\n",
        "        'average_clustering': nx.average_clustering(G),\n",
        "        'average_shortest_path_length': nx.average_shortest_path_length(G) if nx.is_connected(G.to_undirected()) else 'Graph is not connected',\n",
        "        'density': nx.density(G)\n",
        "    }\n",
        "    return stats\n",
        "\n",
        "def detect_communities(G):\n",
        "    \"\"\"\n",
        "    Detect communities in the network graph using the Louvain method.\n",
        "\n",
        "    Args:\n",
        "    G (nx.DiGraph): The network graph.\n",
        "\n",
        "    Returns:\n",
        "    dict: A dictionary with nodes as keys and communities as values.\n",
        "    \"\"\"\n",
        "    partition = community_louvain.best_partition(G.to_undirected())\n",
        "    return partition\n",
        "\n",
        "def plot_import_heatmap(df):\n",
        "    \"\"\"\n",
        "    Plots a heatmap of import_value.\n",
        "\n",
        "    Args:\n",
        "        df (pd.DataFrame): The filtered dataframe.\n",
        "    \"\"\"\n",
        "    import_matrix = df.pivot(index=\"product_id\", columns=\"partner_code\", values=\"import_value\") # Updated pivot method syntax\n",
        "    plt.figure(figsize=(14, 10))\n",
        "    sns.heatmap(import_matrix, annot=True, fmt=\".0f\", cmap=\"YlGnBu\")\n",
        "    plt.title(\"Rwanda's Largest Imports by Partners in 2021\")\n",
        "    plt.xlabel(\"Partner Code\")\n",
        "    plt.ylabel(\"Product ID\")\n",
        "\n",
        "    plt.show()"
      ]
    },
    {
      "cell_type": "code",
      "execution_count": null,
      "metadata": {
        "colab": {
          "base_uri": "https://localhost:8080/",
          "height": 423
        },
        "id": "Syme7k9X87NG",
        "outputId": "43790f3f-dcfd-4ab9-c9fb-1e4ed837f1ad"
      },
      "outputs": [],
      "source": [
        "df_filtered = filter_data(df)\n",
        "df_filtered"
      ]
    },
    {
      "cell_type": "code",
      "execution_count": null,
      "metadata": {
        "colab": {
          "base_uri": "https://localhost:8080/",
          "height": 423
        },
        "id": "f20p5WJML7Yf",
        "outputId": "e9b7d3d8-028d-4fb3-bdc9-daa07895fbda"
      },
      "outputs": [],
      "source": [
        "# Filter out rows where both imports and exports are equal to zero\n",
        "df_filtered = df_filtered[(df_filtered['import_value'] != 0) | (df_filtered['export_value'] != 0)]\n",
        "df_filtered"
      ]
    },
    {
      "cell_type": "code",
      "execution_count": null,
      "metadata": {
        "colab": {
          "base_uri": "https://localhost:8080/",
          "height": 423
        },
        "id": "GiwnAX3TMLw5",
        "outputId": "5f49535d-49e6-474f-fca5-664a94e5ea5b"
      },
      "outputs": [],
      "source": [
        "# Filter out rows where (if imports are equal to zero and exports less than 30000\n",
        "# Or exports equal to zero and imorts less than 30000)\n",
        "df_filtered = df_filtered[~(((df_filtered['import_value'] == 0) & (df_filtered['export_value'] < 180000000)) |\n",
        "                           ((df_filtered['export_value'] == 0) & (df_filtered['import_value'] < 180000000)))]\n",
        "\n",
        "df_filtered"
      ]
    },
    {
      "cell_type": "code",
      "execution_count": null,
      "metadata": {},
      "outputs": [],
      "source": [
        "# Only keep Rwanda's data\n",
        "df_filtered = df_filtered[df_filtered['location_code'] == 'RWA']\n",
        "df_filtered"
      ]
    },
    {
      "cell_type": "code",
      "execution_count": null,
      "metadata": {
        "colab": {
          "base_uri": "https://localhost:8080/"
        },
        "id": "Yz8wzQ28870-",
        "outputId": "3e921e56-20c0-432a-f7be-d598e1eb92cb"
      },
      "outputs": [],
      "source": [
        "G = create_network_graph(df_filtered)\n",
        "G.nodes()"
      ]
    },
    {
      "cell_type": "code",
      "execution_count": null,
      "metadata": {
        "id": "QZyLQMx_88A6"
      },
      "outputs": [],
      "source": [
        "# Display the 10 most prominent edges\n",
        "G.edges(data=True)"
      ]
    },
    {
      "cell_type": "code",
      "execution_count": null,
      "metadata": {
        "colab": {
          "base_uri": "https://localhost:8080/",
          "height": 888
        },
        "id": "Mn8QkiGc88Ur",
        "outputId": "e9aba984-02de-4cc4-f4f9-bc4d711dbf42"
      },
      "outputs": [],
      "source": [
        "#plot_network_graph(G)"
      ]
    },
    {
      "cell_type": "code",
      "execution_count": null,
      "metadata": {
        "id": "wg3e7x8FHxN_"
      },
      "outputs": [],
      "source": [
        "partition = detect_communities(G)\n",
        "#partition"
      ]
    },
    {
      "cell_type": "code",
      "execution_count": null,
      "metadata": {
        "colab": {
          "base_uri": "https://localhost:8080/",
          "height": 888
        },
        "id": "_hud6vWkH5t7",
        "outputId": "5d0222f1-f7a8-445a-fb01-d21b7175efff"
      },
      "outputs": [],
      "source": [
        "#plot_network_graph(G, partition)"
      ]
    },
    {
      "cell_type": "code",
      "execution_count": null,
      "metadata": {
        "colab": {
          "base_uri": "https://localhost:8080/",
          "height": 655
        },
        "id": "tSl3xO0_RSSR",
        "outputId": "a94f7550-0a0f-4353-ddb3-f9327ad34d5c"
      },
      "outputs": [],
      "source": [
        "# Check for duplicates in the 'name' column\n",
        "print(df_filtered['product_id'].duplicated().sum())\n",
        "\n",
        "# 1. Drop duplicates:\n",
        "df_filtered = df_filtered.drop_duplicates(subset=['product_id'])\n",
        "df_filtered"
      ]
    },
    {
      "cell_type": "code",
      "execution_count": null,
      "metadata": {},
      "outputs": [],
      "source": [
        "# 2. Aggregate duplicates (e.g., sum imports for the same name):\n",
        "df_filtered = df_filtered.groupby('product_id').agg({'partner_code': 'first', 'import_value': 'sum'}).reset_index()\n",
        "\n",
        "# Only keep imports greater than 2000000\n",
        "df_filtered = df_filtered[df_filtered['import_value'] > 2000000]\n",
        "plot_import_heatmap(df_filtered)"
      ]
    },
    {
      "cell_type": "code",
      "execution_count": null,
      "metadata": {
        "colab": {
          "base_uri": "https://localhost:8080/"
        },
        "id": "aZ5PMVx7_MHQ",
        "outputId": "47cd3be8-8b1f-426f-f354-e188bf039405"
      },
      "outputs": [],
      "source": [
        "network_stats = calculate_network_statistics(G)\n",
        "network_stats"
      ]
    },
    {
      "cell_type": "markdown",
      "metadata": {},
      "source": [
        "### Community Detection using the Louvain Algorithm \n",
        "\n",
        "#### Introduction\n",
        "The Louvain algorithm is a method for detecting communities in large networks. It is a hierarchical algorithm that optimizes the modularity of the partitions. We apply the Louvain algorithm using the `python-louvain` package on the dataset explored previously focusing on Rwanda's trade relationships.\n",
        "\n",
        "#### Dataset\n",
        "The dataset includes the following features:\n",
        "- `product_id`: Product Id\n",
        "- `import_value`: Import values\n",
        "- `export_value`: Export values\n",
        "- `partner_code`: Identifier for trading partners\n",
        "- `year`: Year of the data"
      ]
    },
    {
      "cell_type": "code",
      "execution_count": null,
      "metadata": {},
      "outputs": [],
      "source": [
        "G_undirected = G.to_undirected()\n",
        "# Apply the Louvain algorithm\n",
        "partition = community_louvain.best_partition(G_undirected)"
      ]
    },
    {
      "cell_type": "code",
      "execution_count": null,
      "metadata": {},
      "outputs": [],
      "source": [
        "# Set seed for reproducibility \n",
        "scipy.random.seed(12345876)\n",
        "# Function to create a graph for a specific year\n",
        "def create_year_graph(year):\n",
        "    G_year = nx.Graph()\n",
        "    year_data = df[df['year'] == year]\n",
        "    for _, row in year_data.iterrows():\n",
        "        G_year.add_node(row['product_id'])\n",
        "        G_year.add_edge(row['product_id'], row['partner_code'], weight=row['import_value'] + row['export_value'])\n",
        "    return G_year\n",
        "# Visualize the network dynamics over the years\n",
        "years = sorted(df['year'].unique())\n",
        "for year in years:\n",
        "    G_year = create_year_graph(year)\n",
        "    partition = community_louvain.best_partition(G_year)\n",
        "    pos = nx.spring_layout(G_year)\n",
        "    plt.figure(figsize=(10, 12))  # Adjust the size as needed\n",
        "\n",
        "    cmap = plt.get_cmap('viridis', max(partition.values()) + 1)\n",
        "    nx.draw_networkx_nodes(G_year, pos, partition.keys(), node_size=40, cmap=cmap, node_color=list(partition.values()))\n",
        "    nx.draw_networkx_edges(G_year, pos, alpha=0.5)\n",
        "    plt.title(f'Year: {year}')\n",
        "    plt.show()"
      ]
    }
  ],
  "metadata": {
    "colab": {
      "include_colab_link": true,
      "provenance": []
    },
    "kernelspec": {
      "display_name": "Python 3",
      "name": "python3"
    },
    "language_info": {
      "codemirror_mode": {
        "name": "ipython",
        "version": 3
      },
      "file_extension": ".py",
      "mimetype": "text/x-python",
      "name": "python",
      "nbconvert_exporter": "python",
      "pygments_lexer": "ipython3",
      "version": "3.11.9"
    }
  },
  "nbformat": 4,
  "nbformat_minor": 0
}
