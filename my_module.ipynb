{
 "cells": [
  {
   "cell_type": "code",
   "execution_count": 2,
   "id": "817b8780",
   "metadata": {},
   "outputs": [],
   "source": [
    "from dowhy import CausalModel\n",
    "import dowhy.datasets\n",
    "\n",
    "# Load some sample data\n",
    "data = dowhy.datasets.linear_dataset(\n",
    "    beta=10,\n",
    "    num_common_causes=5,\n",
    "    num_instruments=2,\n",
    "    num_samples=10000,\n",
    "    treatment_is_binary=True)"
   ]
  },
  {
   "cell_type": "code",
   "execution_count": 5,
   "id": "ed0416b7",
   "metadata": {},
   "outputs": [],
   "source": [
    "import stumpy\n",
    "import numpy as np\n",
    "\n",
    "if __name__ == \"__main__\":\n",
    "    your_time_series = np.random.rand(10000)\n",
    "    window_size = 50  # Approximately, how many data points might be found in a pattern\n",
    "\n",
    "    matrix_profile = stumpy.stump(your_time_series, m=window_size)\n",
    "\n",
    "    left_matrix_profile_index = matrix_profile[:, 2]\n",
    "    right_matrix_profile_index = matrix_profile[:, 3]\n",
    "    idx = 10  # Subsequence index for which to retrieve the anchored time series chain for\n",
    "\n",
    "    anchored_chain = stumpy.atsc(left_matrix_profile_index, right_matrix_profile_index, idx)\n",
    "\n",
    "    all_chain_set, longest_unanchored_chain = stumpy.allc(left_matrix_profile_index, right_matrix_profile_index)"
   ]
  },
  {
   "cell_type": "code",
   "execution_count": 7,
   "id": "e5eb7a84",
   "metadata": {},
   "outputs": [],
   "source": [
    "import stumpy\n",
    "import numpy as np\n",
    "\n",
    "if __name__ == \"__main__\":\n",
    "    your_time_series = np.random.rand(10000)\n",
    "    window_size = 50  # Approximately, how many data points might be found in a pattern\n",
    "\n",
    "    matrix_profile = stumpy.stump(your_time_series, m=window_size)\n",
    "\n",
    "    subseq_len = 50\n",
    "    correct_arc_curve, regime_locations = stumpy.fluss(matrix_profile[:, 1],\n",
    "                                                    L=subseq_len,\n",
    "                                                    n_regimes=2,\n",
    "                                                    excl_factor=1\n",
    "                                                    )"
   ]
  },
  {
   "cell_type": "code",
   "execution_count": 8,
   "id": "c30d059f",
   "metadata": {},
   "outputs": [
    {
     "data": {
      "text/plain": [
       "array([1., 1., 1., ..., 1., 1., 1.])"
      ]
     },
     "execution_count": 8,
     "metadata": {},
     "output_type": "execute_result"
    }
   ],
   "source": [
    "regime_locations"
   ]
  },
  {
   "cell_type": "code",
   "execution_count": null,
   "id": "828a4d56",
   "metadata": {},
   "outputs": [],
   "source": []
  }
 ],
 "metadata": {
  "kernelspec": {
   "display_name": "Python 3 (ipykernel)",
   "language": "python",
   "name": "python3"
  },
  "language_info": {
   "codemirror_mode": {
    "name": "ipython",
    "version": 3
   },
   "file_extension": ".py",
   "mimetype": "text/x-python",
   "name": "python",
   "nbconvert_exporter": "python",
   "pygments_lexer": "ipython3",
   "version": "3.8.10"
  }
 },
 "nbformat": 4,
 "nbformat_minor": 5
}
